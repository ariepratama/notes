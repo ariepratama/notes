{
 "cells": [
  {
   "cell_type": "code",
   "execution_count": 14,
   "id": "791dbb0a-9867-41bf-bb8e-0000e0291a14",
   "metadata": {},
   "outputs": [],
   "source": [
    "from transformers import DistilBertTokenizer, DistilBertModel\n",
    "from datasets import load_dataset_builder\n",
    "from datasets import load_dataset"
   ]
  },
  {
   "cell_type": "code",
   "execution_count": 2,
   "id": "a0438dfe-7d90-4ab3-a6a2-0251d7cc9c90",
   "metadata": {},
   "outputs": [
    {
     "data": {
      "application/vnd.jupyter.widget-view+json": {
       "model_id": "540020cce51f40b5bf5d0b0174717dd6",
       "version_major": 2,
       "version_minor": 0
      },
      "text/plain": [
       "model.safetensors:   0%|          | 0.00/268M [00:00<?, ?B/s]"
      ]
     },
     "metadata": {},
     "output_type": "display_data"
    }
   ],
   "source": [
    "model_name = \"distilbert-base-uncased\"\n",
    "tokenizer = DistilBertTokenizer.from_pretrained(model_name)\n",
    "model = DistilBertModel.from_pretrained(model_name)"
   ]
  },
  {
   "cell_type": "code",
   "execution_count": 4,
   "id": "dbef81c3-28d2-4e75-9fc9-ecc17e26c5d9",
   "metadata": {},
   "outputs": [],
   "source": [
    "inputs = tokenizer(\"Hello my dog is angry\", return_tensors=\"pt\")\n",
    "outputs = model(**inputs)"
   ]
  },
  {
   "cell_type": "code",
   "execution_count": 5,
   "id": "c822aa93-05b4-4745-b5eb-2a1e1adde8bf",
   "metadata": {},
   "outputs": [
    {
     "data": {
      "text/plain": [
       "tensor([[[-0.1182,  0.0401,  0.1012,  ..., -0.0797,  0.2700,  0.3101],\n",
       "         [-0.2452,  0.5333,  0.2623,  ..., -0.1603,  0.4190,  0.0128],\n",
       "         [-0.0881,  0.4752,  0.6301,  ..., -0.3104, -0.0309,  0.6695],\n",
       "         ...,\n",
       "         [-0.3977,  0.1153,  0.2906,  ..., -0.1540,  0.0451,  0.5434],\n",
       "         [-0.3521,  0.2235, -0.3025,  ..., -0.1334, -0.0531, -0.4638],\n",
       "         [ 0.7622,  0.2935, -0.4404,  ...,  0.0714, -0.5083, -0.2855]]],\n",
       "       grad_fn=<NativeLayerNormBackward0>)"
      ]
     },
     "execution_count": 5,
     "metadata": {},
     "output_type": "execute_result"
    }
   ],
   "source": [
    "outputs.last_hidden_state"
   ]
  },
  {
   "cell_type": "code",
   "execution_count": 16,
   "id": "f6ad287a-03e9-4b81-8ac6-9fb1f5d9c513",
   "metadata": {},
   "outputs": [],
   "source": [
    "# https://huggingface.co/datasets/simple_questions_v2\n",
    "sq_name = \"simple_questions_v2\"\n",
    "sq = load_dataset_builder(sq_name)"
   ]
  },
  {
   "cell_type": "code",
   "execution_count": 12,
   "id": "7e3a00c1-3341-451a-b469-59b554ad452d",
   "metadata": {},
   "outputs": [
    {
     "data": {
      "text/plain": [
       "{'train': SplitInfo(name='train', num_bytes=12376039, num_examples=75910, shard_lengths=None, dataset_name=None),\n",
       " 'validation': SplitInfo(name='validation', num_bytes=12376039, num_examples=75910, shard_lengths=None, dataset_name=None),\n",
       " 'test': SplitInfo(name='test', num_bytes=12376039, num_examples=75910, shard_lengths=None, dataset_name=None)}"
      ]
     },
     "execution_count": 12,
     "metadata": {},
     "output_type": "execute_result"
    }
   ],
   "source": [
    "sq.info.splits"
   ]
  },
  {
   "cell_type": "code",
   "execution_count": 17,
   "id": "e7c29672-f632-4f35-ba0a-485eedba888c",
   "metadata": {},
   "outputs": [
    {
     "data": {
      "application/vnd.jupyter.widget-view+json": {
       "model_id": "740a9f36d31f417681ddab6656d2cb19",
       "version_major": 2,
       "version_minor": 0
      },
      "text/plain": [
       "Downloading data:   0%|          | 0.00/423M [00:00<?, ?B/s]"
      ]
     },
     "metadata": {},
     "output_type": "display_data"
    },
    {
     "data": {
      "application/vnd.jupyter.widget-view+json": {
       "model_id": "697809d53f22474c9e2f6ec1efa09cb0",
       "version_major": 2,
       "version_minor": 0
      },
      "text/plain": [
       "Generating train split:   0%|          | 0/75910 [00:00<?, ? examples/s]"
      ]
     },
     "metadata": {},
     "output_type": "display_data"
    },
    {
     "data": {
      "application/vnd.jupyter.widget-view+json": {
       "model_id": "552ab3d5920343178eae2ededf76f78f",
       "version_major": 2,
       "version_minor": 0
      },
      "text/plain": [
       "Generating validation split:   0%|          | 0/75910 [00:00<?, ? examples/s]"
      ]
     },
     "metadata": {},
     "output_type": "display_data"
    },
    {
     "data": {
      "application/vnd.jupyter.widget-view+json": {
       "model_id": "4aad56fc252b4db69671e9d360ece50e",
       "version_major": 2,
       "version_minor": 0
      },
      "text/plain": [
       "Generating test split:   0%|          | 0/75910 [00:00<?, ? examples/s]"
      ]
     },
     "metadata": {},
     "output_type": "display_data"
    }
   ],
   "source": [
    "sq_train = load_dataset(sq_name, split=\"train\")"
   ]
  },
  {
   "cell_type": "code",
   "execution_count": 28,
   "id": "33e8f1c2-ab66-4016-baad-a8c6440b0745",
   "metadata": {},
   "outputs": [],
   "source": [
    "sq_dev = sq_train[:100]"
   ]
  },
  {
   "cell_type": "code",
   "execution_count": 29,
   "id": "deab668b-0d0b-425c-8971-f7659ee919a1",
   "metadata": {},
   "outputs": [
    {
     "data": {
      "text/plain": [
       "dict_keys(['id', 'subject_entity', 'relationship', 'object_entity', 'question'])"
      ]
     },
     "execution_count": 29,
     "metadata": {},
     "output_type": "execute_result"
    }
   ],
   "source": [
    "sq_dev.keys()"
   ]
  },
  {
   "cell_type": "code",
   "execution_count": 30,
   "id": "0d9bdf1a-cc89-4a71-9933-e2083cd884fd",
   "metadata": {},
   "outputs": [
    {
     "data": {
      "text/plain": [
       "('what is the book e about\\n',\n",
       " 'www.freebase.com/m/04whkz5',\n",
       " 'www.freebase.com/book/written_work/subjects',\n",
       " 'www.freebase.com/m/01cj3p')"
      ]
     },
     "execution_count": 30,
     "metadata": {},
     "output_type": "execute_result"
    }
   ],
   "source": [
    "sq_dev[\"question\"][0], sq_dev[\"subject_entity\"][0], sq_dev[\"relationship\"][0], sq_dev[\"object_entity\"][0]"
   ]
  },
  {
   "cell_type": "code",
   "execution_count": 31,
   "id": "239bcf75-9c7a-4944-8bba-65c9d7a00f41",
   "metadata": {},
   "outputs": [
    {
     "data": {
      "text/plain": [
       "('to what release does the release track cardiac arrest come from\\n',\n",
       " 'www.freebase.com/m/0tp2p24',\n",
       " 'www.freebase.com/music/release_track/release',\n",
       " 'www.freebase.com/m/0sjc7c1')"
      ]
     },
     "execution_count": 31,
     "metadata": {},
     "output_type": "execute_result"
    }
   ],
   "source": [
    "i = 1\n",
    "sq_dev[\"question\"][i], sq_dev[\"subject_entity\"][i], sq_dev[\"relationship\"][i], sq_dev[\"object_entity\"][i]"
   ]
  },
  {
   "cell_type": "code",
   "execution_count": null,
   "id": "a0676681-e9e7-471b-bbae-65b1959aecca",
   "metadata": {},
   "outputs": [],
   "source": []
  }
 ],
 "metadata": {
  "kernelspec": {
   "display_name": "Python 3 (ipykernel)",
   "language": "python",
   "name": "python3"
  },
  "language_info": {
   "codemirror_mode": {
    "name": "ipython",
    "version": 3
   },
   "file_extension": ".py",
   "mimetype": "text/x-python",
   "name": "python",
   "nbconvert_exporter": "python",
   "pygments_lexer": "ipython3",
   "version": "3.11.5"
  }
 },
 "nbformat": 4,
 "nbformat_minor": 5
}
